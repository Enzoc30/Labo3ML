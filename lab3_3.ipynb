{
 "cells": [
  {
   "cell_type": "markdown",
   "metadata": {},
   "source": [
    "Repeat the step above by first using an embedding of your choice and then applying PCA to project the dataset into 2 dimensions. Visualize/plot the dataset with color codes depending on the classes. You must declare the dimension of the embedding.\n",
    "\n",
    "Repetir el paso anterior usando primero un embedding de tu eleccion y luego aplicar PCA al dataset hacia dos dimensiones. Visualizar/plotear el dataset con un codigo de colores dependiendo de las clases. Deberas declarar la dimension del embedding.\n"
   ]
  },
  {
   "cell_type": "code",
   "execution_count": 1,
   "metadata": {},
   "outputs": [
    {
     "name": "stdout",
     "output_type": "stream",
     "text": [
      "fasfa\n"
     ]
    }
   ],
   "source": [
    "print(\"fasfa\")"
   ]
  },
  {
   "cell_type": "code",
   "execution_count": 1,
   "metadata": {},
   "outputs": [
    {
     "name": "stderr",
     "output_type": "stream",
     "text": [
      "/home/enzoc/.local/lib/python3.10/site-packages/tqdm/auto.py:21: TqdmWarning: IProgress not found. Please update jupyter and ipywidgets. See https://ipywidgets.readthedocs.io/en/stable/user_install.html\n",
      "  from .autonotebook import tqdm as notebook_tqdm\n"
     ]
    },
    {
     "ename": "NameError",
     "evalue": "name 'pca' is not defined",
     "output_type": "error",
     "traceback": [
      "\u001b[0;31m---------------------------------------------------------------------------\u001b[0m",
      "\u001b[0;31mNameError\u001b[0m                                 Traceback (most recent call last)",
      "\u001b[1;32m/home/enzoc/Escritorio/ML/lab3_3.ipynb Cell 3\u001b[0m line \u001b[0;36m3\n\u001b[1;32m     <a href='vscode-notebook-cell:/home/enzoc/Escritorio/ML/lab3_3.ipynb#W2sZmlsZQ%3D%3D?line=28'>29</a>\u001b[0m X_umap \u001b[39m=\u001b[39m umap\u001b[39m.\u001b[39mfit_transform(X)\n\u001b[1;32m     <a href='vscode-notebook-cell:/home/enzoc/Escritorio/ML/lab3_3.ipynb#W2sZmlsZQ%3D%3D?line=30'>31</a>\u001b[0m Vpca \u001b[39m=\u001b[39m PCA(n_components\u001b[39m=\u001b[39m\u001b[39m2\u001b[39m)\n\u001b[0;32m---> <a href='vscode-notebook-cell:/home/enzoc/Escritorio/ML/lab3_3.ipynb#W2sZmlsZQ%3D%3D?line=31'>32</a>\u001b[0m X_pca \u001b[39m=\u001b[39m pca\u001b[39m.\u001b[39mfit_transform(X_umap)\n\u001b[1;32m     <a href='vscode-notebook-cell:/home/enzoc/Escritorio/ML/lab3_3.ipynb#W2sZmlsZQ%3D%3D?line=33'>34</a>\u001b[0m \u001b[39m# Crear un scatter plot\u001b[39;00m\n\u001b[1;32m     <a href='vscode-notebook-cell:/home/enzoc/Escritorio/ML/lab3_3.ipynb#W2sZmlsZQ%3D%3D?line=34'>35</a>\u001b[0m plt\u001b[39m.\u001b[39mfigure(figsize\u001b[39m=\u001b[39m(\u001b[39m10\u001b[39m, \u001b[39m8\u001b[39m))\n",
      "\u001b[0;31mNameError\u001b[0m: name 'pca' is not defined"
     ]
    }
   ],
   "source": [
    "import os\n",
    "import numpy as np\n",
    "import matplotlib.pyplot as plt\n",
    "from PIL import Image\n",
    "from sklearn.decomposition import PCA\n",
    "from umap import UMAP\n",
    "\n",
    "\n",
    "path = \"img/\"\n",
    "\n",
    "images = []\n",
    "labels = []\n",
    "\n",
    "for clse in range(1,11):\n",
    "    ruta = os.path.join(path,str(clse))\n",
    "    for archivo in os.listdir(ruta): \n",
    "        if archivo.endswith(\".png\"):\n",
    "            ruta_img = os.path.join(ruta,archivo)\n",
    "            img = Image.open(ruta_img).convert(\"L\")\n",
    "            img_array = np.array(img)\n",
    "            img_flat = img_array.flatten()\n",
    "            images.append(img_flat)\n",
    "            labels.append(clse)\n",
    "            \n",
    "X = np.array(images)\n",
    "Y = np.array(labels)\n",
    "\n",
    "umap = UMAP(n_components=2)\n",
    "X_umap = umap.fit_transform(X)\n",
    "\n",
    "Vpca = PCA(n_components=2)\n",
    "X_pca = Vpca.fit_transform(X_umap)\n",
    "\n",
    "# Crear un scatter plot\n",
    "plt.figure(figsize=(10, 8))\n",
    "\n",
    "# Plotear los puntos con códigos de color basados en las clases\n",
    "for i in np.unique(y):\n",
    "    plt.scatter(X_pca[y == i, 0], X_pca[y == i, 1], label=f'Clase {i}')\n",
    "\n",
    "# Establecer etiquetas y leyenda\n",
    "plt.xlabel('Componente Principal 1')\n",
    "plt.ylabel('Componente Principal 2')\n",
    "plt.legend()\n",
    "\n",
    "# Mostrar el gráfico\n",
    "plt.show()\n",
    "            \n",
    "    "
   ]
  }
 ],
 "metadata": {
  "kernelspec": {
   "display_name": "Python 3",
   "language": "python",
   "name": "python3"
  },
  "language_info": {
   "codemirror_mode": {
    "name": "ipython",
    "version": 3
   },
   "file_extension": ".py",
   "mimetype": "text/x-python",
   "name": "python",
   "nbconvert_exporter": "python",
   "pygments_lexer": "ipython3",
   "version": "3.10.12"
  }
 },
 "nbformat": 4,
 "nbformat_minor": 2
}
